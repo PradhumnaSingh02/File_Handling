{
  "nbformat": 4,
  "nbformat_minor": 0,
  "metadata": {
    "colab": {
      "name": "File Handling.ipynb",
      "provenance": []
    },
    "kernelspec": {
      "name": "python3",
      "display_name": "Python 3"
    },
    "language_info": {
      "name": "python"
    }
  },
  "cells": [
    {
      "cell_type": "code",
      "execution_count": null,
      "metadata": {
        "colab": {
          "base_uri": "https://localhost:8080/"
        },
        "id": "v1L11LHWtOR2",
        "outputId": "f5b90366-c8cd-4aeb-96a8-9f65bffc13d1"
      },
      "outputs": [
        {
          "output_type": "stream",
          "name": "stdout",
          "text": [
            "3 5\n"
          ]
        }
      ],
      "source": [
        "file = open('/content/pradhumnafile.txt','r')\n",
        "# a=file.sort()\n",
        "# for i in a:\n",
        "#   print(i)\n",
        "print(file.read(3))\n",
        "file.close()  "
      ]
    },
    {
      "cell_type": "code",
      "source": [
        "file = open('/content/pradhumnafile.txt','w+')\n",
        "file.write(\"Pradhumna Singh\")\n",
        "file = open('/content/pradhumnafile.txt','r+')\n",
        "for i in file:\n",
        "  print(i)\n"
      ],
      "metadata": {
        "id": "euqs-E8mwR7t",
        "colab": {
          "base_uri": "https://localhost:8080/"
        },
        "outputId": "0ffb0e9f-18a1-4ebb-8d81-1ded3747fe7b"
      },
      "execution_count": null,
      "outputs": [
        {
          "output_type": "stream",
          "name": "stdout",
          "text": [
            "Pradhumna Singh\n"
          ]
        }
      ]
    },
    {
      "cell_type": "code",
      "source": [
        "try:\n",
        "  data = data1 = ''\n",
        "  file1 = open('/content/pradhumnafile.txt','r+')\n",
        "  data=file1.read()\n",
        "  file2 = open('/content/pradhumnafile2.txt','r+')\n",
        "  data1=file2.read()\n",
        "  data = data+data1\n",
        "\n",
        "  file3 = open('/content/drive/MyDrive/try/file3.txt','w')\n",
        "  file3.write(data)\n",
        "  file3 = open('/content/drive/MyDrive/try/file3.txt','r')\n",
        "  print(file3.read())\n",
        "except:\n",
        "  print(\"Error is occured\")\n",
        "\n"
      ],
      "metadata": {
        "id": "8ULOMaR0wk1e",
        "colab": {
          "base_uri": "https://localhost:8080/"
        },
        "outputId": "dca9445e-574c-4d6f-e0b5-1d525afc67c2"
      },
      "execution_count": null,
      "outputs": [
        {
          "output_type": "stream",
          "name": "stdout",
          "text": [
            "Jaypee university\n",
            "Hello 1 34 2 5 6 78 98 90\n"
          ]
        }
      ]
    },
    {
      "cell_type": "code",
      "source": [
        "file = open('/content/pradhumnafile.txt','w+')\n",
        "digit = 0\n",
        "num = input()\n",
        "file.write(num)\n",
        "last = file.tell()\n",
        "file.seek(0)\n",
        "num = int(file.read())\n",
        "while num>0:\n",
        "  digit+=1\n",
        "  num//=10\n",
        "file.seek(last)\n",
        "file.write(\"\\n\")\n",
        "file.write(str(digit))\n",
        "file.seek(0)\n",
        "print(file.read())\n",
        "file.close()"
      ],
      "metadata": {
        "colab": {
          "base_uri": "https://localhost:8080/"
        },
        "id": "2hrJd8Go3RJH",
        "outputId": "4202fbb7-61fe-476d-e6ca-efa592e6ded6"
      },
      "execution_count": null,
      "outputs": [
        {
          "output_type": "stream",
          "name": "stdout",
          "text": [
            "23456789\n",
            "23456789\n",
            "8\n"
          ]
        }
      ]
    }
  ]
}